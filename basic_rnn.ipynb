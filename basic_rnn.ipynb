{
 "cells": [
  {
   "cell_type": "code",
   "execution_count": 6,
   "id": "39197b74",
   "metadata": {},
   "outputs": [],
   "source": [
    "from tokenizers import Tokenizer\n",
    "from tokenizers.models import BPE\n",
    "from tokenizers.trainers import BpeTrainer\n",
    "from tokenizers.pre_tokenizers import ByteLevel\n",
    "\n",
    "tokenizer = Tokenizer(BPE(unk_token=\"<unk>\"))\n",
    "tokenizer.pre_tokenizer = ByteLevel()  # thay vì Whitespace()\n",
    "\n",
    "trainer = BpeTrainer(\n",
    "    vocab_size=20000,\n",
    "    min_frequency=1,\n",
    "    special_tokens=[\"<pad>\", \"<unk>\" , \"<sos>\", \"<eos>\"]\n",
    ")\n",
    "\n",
    "tokenizer.train([\"data/VSFC/train/sents.txt\"], trainer)\n",
    "tokenizer.save(\"bpe_tokenizer.json\")\n"
   ]
  },
  {
   "cell_type": "code",
   "execution_count": null,
   "id": "4d43d821",
   "metadata": {},
   "outputs": [
    {
     "data": {
      "text/plain": [
       "3526"
      ]
     },
     "execution_count": 8,
     "metadata": {},
     "output_type": "execute_result"
    }
   ],
   "source": [
    "vocab_size = tokenizer.get_vocab_size()"
   ]
  },
  {
   "cell_type": "code",
   "execution_count": 28,
   "id": "18b60321",
   "metadata": {},
   "outputs": [],
   "source": [
    "import torch\n",
    "from torch import nn\n",
    "from torch.utils.data import DataLoader,TensorDataset"
   ]
  },
  {
   "cell_type": "code",
   "execution_count": 10,
   "id": "9232aa42",
   "metadata": {},
   "outputs": [],
   "source": [
    "train_feature_path, train_label_path = \"data/VSFC/train/sents.txt\",\"data/VSFC/train/sentiments.txt\"\n",
    "test_feature_path, test_label_path = \"data/VSFC/test/sents.txt\",\"data/VSFC/test/sentiments.txt\"\n"
   ]
  },
  {
   "cell_type": "code",
   "execution_count": 62,
   "id": "162e5a98",
   "metadata": {},
   "outputs": [],
   "source": [
    "def load_file(path_src,path_tgt):\n",
    "    with open(path_src, \"r\", encoding=\"utf-8\") as f:\n",
    "        src_lines = [line.strip() for line in f.readlines()]\n",
    "\n",
    "    with open(path_tgt, \"r\", encoding=\"utf-8\") as f:\n",
    "        tgt_lines = [line.strip() for line in f.readlines()]\n",
    "    return src_lines,tgt_lines"
   ]
  },
  {
   "cell_type": "code",
   "execution_count": 63,
   "id": "c34bc867",
   "metadata": {},
   "outputs": [],
   "source": [
    "train_features, train_labels = load_file(train_feature_path,train_label_path)\n",
    "test_features, test_labels = load_file(test_feature_path,test_label_path)"
   ]
  },
  {
   "cell_type": "code",
   "execution_count": 64,
   "id": "01b20b55",
   "metadata": {},
   "outputs": [
    {
     "data": {
      "text/plain": [
       "(11426, 11426, 3166, 3166)"
      ]
     },
     "execution_count": 64,
     "metadata": {},
     "output_type": "execute_result"
    }
   ],
   "source": [
    "len(train_features), len(train_labels), len(test_features), len(test_labels)"
   ]
  },
  {
   "cell_type": "code",
   "execution_count": 67,
   "id": "fca798cd",
   "metadata": {},
   "outputs": [],
   "source": [
    "train_feature_ids, test_feature_ids = [], []\n",
    "\n",
    "for train_feature_line in train_features:\n",
    "        train_feature_ids.append(tokenizer.encode(train_feature_line).ids)\n",
    "for test_feature_line in test_features:\n",
    "        test_feature_ids.append(tokenizer.encode(test_feature_line).ids)\n",
    "\n",
    "\n",
    "# for train_feature_line, test_feature_line in zip(train_features,test_features):\n",
    "#     train_feature_ids.append(tokenizer.encode(train_feature_line).ids)\n",
    "#     test_feature_ids.append(tokenizer.encode(test_feature_line).ids)"
   ]
  },
  {
   "cell_type": "code",
   "execution_count": null,
   "id": "96d21a84",
   "metadata": {},
   "outputs": [
    {
     "data": {
      "text/plain": [
       "11426"
      ]
     },
     "execution_count": 68,
     "metadata": {},
     "output_type": "execute_result"
    }
   ],
   "source": []
  },
  {
   "cell_type": "code",
   "execution_count": 69,
   "id": "dc605e1d",
   "metadata": {},
   "outputs": [
    {
     "data": {
      "text/plain": [
       "159"
      ]
     },
     "execution_count": 69,
     "metadata": {},
     "output_type": "execute_result"
    }
   ],
   "source": [
    "max_len = max(len(seq) for seq in train_feature_ids)\n",
    "max_len"
   ]
  },
  {
   "cell_type": "code",
   "execution_count": null,
   "id": "e73e16d2",
   "metadata": {},
   "outputs": [],
   "source": []
  },
  {
   "cell_type": "code",
   "execution_count": 25,
   "id": "bdfca34b",
   "metadata": {},
   "outputs": [],
   "source": [
    "from torch.nn.utils.rnn import pad_sequence"
   ]
  },
  {
   "cell_type": "code",
   "execution_count": 70,
   "id": "1c99fa9d",
   "metadata": {},
   "outputs": [],
   "source": [
    "padded_train_feature = pad_sequence([torch.tensor(item) for item in train_feature_ids],batch_first=True,padding_value=0)\n",
    "padded_test_feature = pad_sequence([torch.tensor(item) for item in test_feature_ids], batch_first=True,padding_value=0)"
   ]
  },
  {
   "cell_type": "code",
   "execution_count": 76,
   "id": "f69538f7",
   "metadata": {},
   "outputs": [
    {
     "data": {
      "text/plain": [
       "torch.Size([3166, 103])"
      ]
     },
     "execution_count": 76,
     "metadata": {},
     "output_type": "execute_result"
    }
   ],
   "source": [
    "padded_test_feature.shape"
   ]
  },
  {
   "cell_type": "code",
   "execution_count": 71,
   "id": "5f9c34aa",
   "metadata": {},
   "outputs": [],
   "source": [
    "tensor_train_label = torch.tensor([int(item) for item in train_labels])\n",
    "tensor_test_label = torch.tensor([int(item) for item in test_labels])"
   ]
  },
  {
   "cell_type": "code",
   "execution_count": 73,
   "id": "0bb95f5c",
   "metadata": {},
   "outputs": [],
   "source": [
    "data_train = TensorDataset(padded_train_feature, tensor_train_label)\n",
    "data_test = TensorDataset(padded_test_feature, tensor_test_label)"
   ]
  },
  {
   "cell_type": "code",
   "execution_count": 74,
   "id": "ed8bad08",
   "metadata": {},
   "outputs": [],
   "source": [
    "train_dataloader = DataLoader(dataset=data_train,batch_size=32,shuffle=True)\n",
    "test_dataloader = DataLoader(dataset=data_test,batch_size=32)"
   ]
  },
  {
   "cell_type": "code",
   "execution_count": 108,
   "id": "e35b00e8",
   "metadata": {},
   "outputs": [],
   "source": [
    "class BasicClassifierRNN(nn.Module):\n",
    "    def __init__(self, *args, **kwargs):\n",
    "        super().__init__(*args, **kwargs)\n",
    "        self.embedding = nn.Embedding(vocab_size,embedding_dim=64,padding_idx=0)\n",
    "        self.encoder = nn.LSTM(input_size=64,hidden_size=128,bidirectional=True,batch_first=True)\n",
    "        self.dropout = nn.Dropout(0.2)\n",
    "        self.linear = nn.Linear(256,3)\n",
    "    # def forward(self,x):\n",
    "    #     x = self.embedding(x)\n",
    "    #     output, (hn, cn) = self.encoder(x)\n",
    "    #     hn = torch.cat(hn[-2,:,:],hn[-1,:,:],dim=1)\n",
    "    #     # x = self.encoder(x)\n",
    "    #     x = self.linear(hn)\n",
    "    #     return x\n",
    "    def forward(self, x):\n",
    "        x = self.embedding(x)  # shape: (batch, seq_len, 64)\n",
    "        output, (hn, cn) = self.encoder(x)  # output: (batch, seq_len, 256)\n",
    "        # Lấy hidden state cuối cùng từ cả 2 hướng\n",
    "        hn = torch.cat([hn[-2,:,:], hn[-1,:,:]], dim=1)  # shape: (batch, 256)\n",
    "        hn = self.dropout(hn)\n",
    "        logits = self.linear(hn)  # shape: (batch, 3)\n",
    "        \n",
    "        return logits  # ✅ Trả về tensor 2D"
   ]
  },
  {
   "cell_type": "code",
   "execution_count": 80,
   "id": "e1556181",
   "metadata": {},
   "outputs": [],
   "source": [
    "device = 'cuda'"
   ]
  },
  {
   "cell_type": "code",
   "execution_count": 113,
   "id": "78522bf5",
   "metadata": {},
   "outputs": [],
   "source": [
    "model = BasicClassifierRNN().to(device=device)"
   ]
  },
  {
   "cell_type": "code",
   "execution_count": 115,
   "id": "5a715494",
   "metadata": {},
   "outputs": [],
   "source": [
    "loss_fn = nn.CrossEntropyLoss()\n",
    "optimizer = torch.optim.Adam(params=model.parameters(),lr=0.01,weight_decay=0.0001)"
   ]
  },
  {
   "cell_type": "code",
   "execution_count": 116,
   "id": "3ab55247",
   "metadata": {},
   "outputs": [
    {
     "name": "stdout",
     "output_type": "stream",
     "text": [
      "Epoch: 1/5 | Train Loss: 0.3599, Train Acc: 0.8748 | Test Loss: 0.7955, Test Acc: 0.6408\n",
      "Epoch: 2/5 | Train Loss: 0.3170, Train Acc: 0.8966 | Test Loss: 0.3387, Test Acc: 0.8907\n",
      "Epoch: 3/5 | Train Loss: 0.2596, Train Acc: 0.9145 | Test Loss: 0.3101, Test Acc: 0.8980\n",
      "Epoch: 4/5 | Train Loss: 0.2397, Train Acc: 0.9221 | Test Loss: 0.3194, Test Acc: 0.8932\n",
      "Epoch: 5/5 | Train Loss: 0.2255, Train Acc: 0.9247 | Test Loss: 0.3430, Test Acc: 0.8926\n"
     ]
    }
   ],
   "source": [
    "epochs = 5\n",
    "for epoch in range(epochs):\n",
    "    model.train()\n",
    "    train_loss, train_accuracy = 0,0\n",
    "    for x,y in train_dataloader:\n",
    "        x,y = x.to(device),y.to(device)\n",
    "\n",
    "        y_logits = model(x)\n",
    "\n",
    "        loss = loss_fn(y_logits,y)\n",
    "        y_pred = torch.softmax(y_logits,dim=1).argmax(dim=1)\n",
    "        train_loss += loss.item()\n",
    "        train_accuracy += (y == y_pred).sum().item() / len(y)\n",
    "        optimizer.zero_grad()\n",
    "        loss.backward()\n",
    "        optimizer.step()\n",
    "    \n",
    "    with torch.inference_mode():\n",
    "        model.eval()\n",
    "        test_loss,test_accuracy = 0,0\n",
    "        for x,y in test_dataloader:\n",
    "            x,y = x.to(device),y.to(device)\n",
    "\n",
    "            y_logits = model(x)\n",
    "\n",
    "            loss = loss_fn(y_logits,y)\n",
    "            y_pred = torch.softmax(y_logits,dim=1).argmax(dim=1)\n",
    "            test_loss += loss.item()\n",
    "            test_accuracy += (y == y_pred).sum().item() / len(y)\n",
    "    \n",
    "    train_accuracy /= len(train_dataloader)\n",
    "    train_loss /= len(train_dataloader)\n",
    "\n",
    "    test_accuracy /= len(test_dataloader)\n",
    "    test_loss /= len(test_dataloader)\n",
    "\n",
    "    print(f\"Epoch: {epoch+1}/{epochs} | Train Loss: {train_loss:.4f}, Train Acc: {train_accuracy:.4f} | Test Loss: {test_loss:.4f}, Test Acc: {test_accuracy:.4f}\")\n"
   ]
  },
  {
   "cell_type": "code",
   "execution_count": 117,
   "id": "1111abcf",
   "metadata": {},
   "outputs": [],
   "source": [
    "model_path = \"sentiment.pt\""
   ]
  },
  {
   "cell_type": "code",
   "execution_count": 119,
   "id": "8f551133",
   "metadata": {},
   "outputs": [],
   "source": [
    "torch.save(obj=model.state_dict(),f=model_path)"
   ]
  },
  {
   "cell_type": "code",
   "execution_count": 120,
   "id": "3d998116",
   "metadata": {},
   "outputs": [],
   "source": [
    "new_model  = BasicClassifierRNN().to(device=device)"
   ]
  },
  {
   "cell_type": "code",
   "execution_count": null,
   "id": "ab40015d",
   "metadata": {},
   "outputs": [],
   "source": [
    "new_model.load_state_dict(torch.load(f=model_path))"
   ]
  }
 ],
 "metadata": {
  "kernelspec": {
   "display_name": "venv (3.10.6)",
   "language": "python",
   "name": "python3"
  },
  "language_info": {
   "codemirror_mode": {
    "name": "ipython",
    "version": 3
   },
   "file_extension": ".py",
   "mimetype": "text/x-python",
   "name": "python",
   "nbconvert_exporter": "python",
   "pygments_lexer": "ipython3",
   "version": "3.10.6"
  }
 },
 "nbformat": 4,
 "nbformat_minor": 5
}
