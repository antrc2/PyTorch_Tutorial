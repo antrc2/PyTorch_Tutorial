{
 "cells": [
  {
   "cell_type": "code",
   "execution_count": 2,
   "id": "9a0f1be8",
   "metadata": {},
   "outputs": [],
   "source": [
    "import torch\n",
    "import torchvision\n",
    "from torch.utils.data import DataLoader, Dataset\n",
    "from torchvision import transforms\n",
    "from torchvision.datasets import ImageFolder\n",
    "\n"
   ]
  },
  {
   "cell_type": "code",
   "execution_count": 1,
   "id": "c979c7bc",
   "metadata": {},
   "outputs": [],
   "source": [
    "device = 'cuda'"
   ]
  },
  {
   "cell_type": "code",
   "execution_count": 3,
   "id": "c807d9bd",
   "metadata": {},
   "outputs": [],
   "source": [
    "train_path = \"data/pizza_steak_sushi/train\"\n",
    "test_path = \"data/pizza_steak_sushi/test\""
   ]
  },
  {
   "cell_type": "code",
   "execution_count": 4,
   "id": "9056fab2",
   "metadata": {},
   "outputs": [],
   "source": [
    "data_tranform = transforms.Compose([\n",
    "    transforms.Resize(size=(64,64)),\n",
    "    transforms.RandomHorizontalFlip(),\n",
    "    transforms.ToTensor()\n",
    "])"
   ]
  },
  {
   "cell_type": "code",
   "execution_count": 7,
   "id": "7e693efe",
   "metadata": {},
   "outputs": [],
   "source": [
    "train_data = ImageFolder(root=train_path,transform=data_tranform,target_transform=None)\n",
    "test_data = ImageFolder(root=test_path,transform=data_tranform)"
   ]
  },
  {
   "cell_type": "code",
   "execution_count": 10,
   "id": "115cb68c",
   "metadata": {},
   "outputs": [],
   "source": [
    "train_dataloader = DataLoader(dataset=train_data,batch_size=32,shuffle=True)\n",
    "test_dataloader = DataLoader(dataset=test_data,batch_size=32,shuffle=False)"
   ]
  },
  {
   "cell_type": "code",
   "execution_count": 16,
   "id": "422ce410",
   "metadata": {},
   "outputs": [
    {
     "data": {
      "text/plain": [
       "torch.Size([32, 3, 64, 64])"
      ]
     },
     "execution_count": 16,
     "metadata": {},
     "output_type": "execute_result"
    }
   ],
   "source": [
    "images, labels = next(iter(train_dataloader))\n",
    "images.shape"
   ]
  },
  {
   "cell_type": "code",
   "execution_count": 8,
   "id": "601c2787",
   "metadata": {},
   "outputs": [],
   "source": [
    "from torch import nn"
   ]
  },
  {
   "cell_type": "code",
   "execution_count": 45,
   "id": "4243be33",
   "metadata": {},
   "outputs": [],
   "source": [
    "class TinyVGG(nn.Module):\n",
    "    def __init__(self):\n",
    "        super().__init__()\n",
    "        self.conv_block1 = nn.Sequential(\n",
    "            nn.Conv2d(in_channels=3,out_channels=25,kernel_size=3,padding=1,stride=1),\n",
    "            nn.ReLU(),\n",
    "            nn.Conv2d(in_channels=25,out_channels=25,kernel_size=3,padding=1,stride=1),\n",
    "            nn.ReLU(),\n",
    "            nn.MaxPool2d(2,2)\n",
    "        )\n",
    "        self.conv_block2 = nn.Sequential(\n",
    "            nn.Conv2d(in_channels=25,out_channels=25,kernel_size=3,padding=1,stride=1),\n",
    "            nn.ReLU(),\n",
    "            nn.Conv2d(in_channels=25,out_channels=25,kernel_size=3,padding=1,stride=1),\n",
    "            nn.ReLU(),\n",
    "            nn.MaxPool2d(2,2)\n",
    "        )\n",
    "        self.linear = nn.Sequential(\n",
    "            nn.Flatten(),\n",
    "            nn.Linear(in_features=16*16*25,out_features=3)\n",
    "        )\n",
    "    def forward(self,x):\n",
    "        x = self.conv_block1(x)\n",
    "        x = self.conv_block2(x)\n",
    "        x = self.linear(x)\n",
    "        return x"
   ]
  },
  {
   "cell_type": "code",
   "execution_count": 46,
   "id": "460edcf0",
   "metadata": {},
   "outputs": [],
   "source": [
    "model = TinyVGG().to(device=device)"
   ]
  },
  {
   "cell_type": "code",
   "execution_count": 19,
   "id": "7ee27b03",
   "metadata": {},
   "outputs": [],
   "source": [
    "from torchinfo import summary\n"
   ]
  },
  {
   "cell_type": "code",
   "execution_count": 47,
   "id": "051b8a5b",
   "metadata": {},
   "outputs": [
    {
     "data": {
      "text/plain": [
       "==========================================================================================\n",
       "Layer (type:depth-idx)                   Output Shape              Param #\n",
       "==========================================================================================\n",
       "TinyVGG                                  [32, 3]                   --\n",
       "├─Sequential: 1-1                        [32, 25, 32, 32]          --\n",
       "│    └─Conv2d: 2-1                       [32, 25, 64, 64]          700\n",
       "│    └─ReLU: 2-2                         [32, 25, 64, 64]          --\n",
       "│    └─Conv2d: 2-3                       [32, 25, 64, 64]          5,650\n",
       "│    └─ReLU: 2-4                         [32, 25, 64, 64]          --\n",
       "│    └─MaxPool2d: 2-5                    [32, 25, 32, 32]          --\n",
       "├─Sequential: 1-2                        [32, 25, 16, 16]          --\n",
       "│    └─Conv2d: 2-6                       [32, 25, 32, 32]          5,650\n",
       "│    └─ReLU: 2-7                         [32, 25, 32, 32]          --\n",
       "│    └─Conv2d: 2-8                       [32, 25, 32, 32]          5,650\n",
       "│    └─ReLU: 2-9                         [32, 25, 32, 32]          --\n",
       "│    └─MaxPool2d: 2-10                   [32, 25, 16, 16]          --\n",
       "├─Sequential: 1-3                        [32, 3]                   --\n",
       "│    └─Flatten: 2-11                     [32, 6400]                --\n",
       "│    └─Linear: 2-12                      [32, 3]                   19,203\n",
       "==========================================================================================\n",
       "Total params: 36,853\n",
       "Trainable params: 36,853\n",
       "Non-trainable params: 0\n",
       "Total mult-adds (G): 1.20\n",
       "==========================================================================================\n",
       "Input size (MB): 1.57\n",
       "Forward/backward pass size (MB): 65.54\n",
       "Params size (MB): 0.15\n",
       "Estimated Total Size (MB): 67.26\n",
       "=========================================================================================="
      ]
     },
     "execution_count": 47,
     "metadata": {},
     "output_type": "execute_result"
    }
   ],
   "source": [
    "summary(model,input_size=(32,3,64,64))"
   ]
  },
  {
   "cell_type": "code",
   "execution_count": 31,
   "id": "bcc822f0",
   "metadata": {},
   "outputs": [],
   "source": [
    "loss_fn = nn.CrossEntropyLoss()\n",
    "optimizer = torch.optim.SGD(params=model.parameters(),lr=0.01)"
   ]
  },
  {
   "cell_type": "code",
   "execution_count": 48,
   "id": "ce89f1e8",
   "metadata": {},
   "outputs": [
    {
     "name": "stdout",
     "output_type": "stream",
     "text": [
      "Epoch 1/20 | Train Loss: 1.0983 Acc: 0.3320 | Test Loss: 1.0979 Acc: 0.2282\n",
      "Epoch 2/20 | Train Loss: 1.0986 Acc: 0.3164 | Test Loss: 1.0977 Acc: 0.2282\n",
      "Epoch 3/20 | Train Loss: 1.0987 Acc: 0.3086 | Test Loss: 1.0977 Acc: 0.2386\n",
      "Epoch 4/20 | Train Loss: 1.0974 Acc: 0.4414 | Test Loss: 1.0980 Acc: 0.2386\n",
      "Epoch 5/20 | Train Loss: 1.0976 Acc: 0.4414 | Test Loss: 1.0980 Acc: 0.2491\n",
      "Epoch 6/20 | Train Loss: 1.0975 Acc: 0.4336 | Test Loss: 1.0979 Acc: 0.2491\n",
      "Epoch 7/20 | Train Loss: 1.1008 Acc: 0.3281 | Test Loss: 1.0978 Acc: 0.2282\n",
      "Epoch 8/20 | Train Loss: 1.0977 Acc: 0.4375 | Test Loss: 1.0979 Acc: 0.2282\n",
      "Epoch 9/20 | Train Loss: 1.0982 Acc: 0.3125 | Test Loss: 1.0977 Acc: 0.2386\n",
      "Epoch 10/20 | Train Loss: 1.0985 Acc: 0.3281 | Test Loss: 1.0980 Acc: 0.2282\n",
      "Epoch 11/20 | Train Loss: 1.0973 Acc: 0.4414 | Test Loss: 1.0981 Acc: 0.2282\n",
      "Epoch 12/20 | Train Loss: 1.0971 Acc: 0.4336 | Test Loss: 1.0980 Acc: 0.2386\n",
      "Epoch 13/20 | Train Loss: 1.0980 Acc: 0.4297 | Test Loss: 1.0979 Acc: 0.2386\n",
      "Epoch 14/20 | Train Loss: 1.0982 Acc: 0.3125 | Test Loss: 1.0977 Acc: 0.2491\n",
      "Epoch 15/20 | Train Loss: 1.0970 Acc: 0.4258 | Test Loss: 1.0978 Acc: 0.2282\n",
      "Epoch 16/20 | Train Loss: 1.0976 Acc: 0.4258 | Test Loss: 1.0981 Acc: 0.2386\n",
      "Epoch 17/20 | Train Loss: 1.0982 Acc: 0.4219 | Test Loss: 1.0978 Acc: 0.2282\n",
      "Epoch 18/20 | Train Loss: 1.1011 Acc: 0.3125 | Test Loss: 1.0982 Acc: 0.2282\n",
      "Epoch 19/20 | Train Loss: 1.1006 Acc: 0.3164 | Test Loss: 1.0980 Acc: 0.2282\n",
      "Epoch 20/20 | Train Loss: 1.0983 Acc: 0.3125 | Test Loss: 1.0980 Acc: 0.2386\n"
     ]
    }
   ],
   "source": [
    "\n",
    "\n",
    "epochs = 20\n",
    "for epoch in range(epochs):\n",
    "    train_loss = 0\n",
    "    train_acc = 0\n",
    "    test_loss = 0\n",
    "    test_acc = 0\n",
    "    model.train()\n",
    "    for x,y in train_dataloader:\n",
    "        x,y = x.to(device),y.to(device)\n",
    "\n",
    "        y_logits = model(x)\n",
    "        y_pred = torch.softmax(y_logits,dim=1).argmax(dim=1)\n",
    "        loss = loss_fn(y_logits,y)\n",
    "        train_loss += loss.item()\n",
    "        optimizer.zero_grad()\n",
    "        loss.backward()\n",
    "        optimizer.step()\n",
    "        acc = (y_pred == y).sum().item() / len(y)\n",
    "        train_acc += acc\n",
    "    train_loss /= len(train_dataloader)\n",
    "    train_acc /= len(train_dataloader)\n",
    "    model.eval()\n",
    "    with torch.inference_mode():  \n",
    "        for x,y in test_dataloader:\n",
    "            x,y = x.to(device),y.to(device)\n",
    "            y_logits = model(x)\n",
    "            y_pred = torch.softmax(y_logits,dim=1).argmax(dim=1)\n",
    "            loss = loss_fn(y_logits,y)\n",
    "            test_loss += loss.item()\n",
    "            acc = (y_pred == y).sum().item() / len(y)\n",
    "            test_acc += acc\n",
    "        test_loss /= len(test_dataloader)\n",
    "        test_acc /= len(test_dataloader)\n",
    "    print(f\"Epoch {epoch+1}/{epochs} | \"\n",
    "          f\"Train Loss: {train_loss:.4f} Acc: {train_acc:.4f} | \"\n",
    "          f\"Test Loss: {test_loss:.4f} Acc: {test_acc:.4f}\")\n",
    "\n",
    "\n",
    "\n",
    "\n",
    "\n"
   ]
  },
  {
   "cell_type": "code",
   "execution_count": 49,
   "id": "d384b9a2",
   "metadata": {},
   "outputs": [
    {
     "data": {
      "text/plain": [
       "TinyVGG(\n",
       "  (conv_block1): Sequential(\n",
       "    (0): Conv2d(3, 25, kernel_size=(3, 3), stride=(1, 1), padding=(1, 1))\n",
       "    (1): ReLU()\n",
       "    (2): Conv2d(25, 25, kernel_size=(3, 3), stride=(1, 1), padding=(1, 1))\n",
       "    (3): ReLU()\n",
       "    (4): MaxPool2d(kernel_size=2, stride=2, padding=0, dilation=1, ceil_mode=False)\n",
       "  )\n",
       "  (conv_block2): Sequential(\n",
       "    (0): Conv2d(25, 25, kernel_size=(3, 3), stride=(1, 1), padding=(1, 1))\n",
       "    (1): ReLU()\n",
       "    (2): Conv2d(25, 25, kernel_size=(3, 3), stride=(1, 1), padding=(1, 1))\n",
       "    (3): ReLU()\n",
       "    (4): MaxPool2d(kernel_size=2, stride=2, padding=0, dilation=1, ceil_mode=False)\n",
       "  )\n",
       "  (linear): Sequential(\n",
       "    (0): Flatten(start_dim=1, end_dim=-1)\n",
       "    (1): Linear(in_features=6400, out_features=3, bias=True)\n",
       "  )\n",
       ")"
      ]
     },
     "execution_count": 49,
     "metadata": {},
     "output_type": "execute_result"
    }
   ],
   "source": [
    "model_path = \"model2.pth\"\n",
    "torch.save(obj=model.state_dict(),f=model_path)\n",
    "\n",
    "loaded_model_0 = TinyVGG()\n",
    "\n",
    "# Load the state_dict of our saved model (this will update the new instance of our model with trained weights)\n",
    "loaded_model_0.load_state_dict(torch.load(f=model_path))\n",
    "\n",
    "# 1. Put the loaded model into evaluation mode\n",
    "loaded_model_0.eval()"
   ]
  }
 ],
 "metadata": {
  "kernelspec": {
   "display_name": "venv (3.10.6)",
   "language": "python",
   "name": "python3"
  },
  "language_info": {
   "codemirror_mode": {
    "name": "ipython",
    "version": 3
   },
   "file_extension": ".py",
   "mimetype": "text/x-python",
   "name": "python",
   "nbconvert_exporter": "python",
   "pygments_lexer": "ipython3",
   "version": "3.10.6"
  }
 },
 "nbformat": 4,
 "nbformat_minor": 5
}
